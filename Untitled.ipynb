{
 "cells": [
  {
   "cell_type": "code",
   "execution_count": null,
   "id": "aa6951c2",
   "metadata": {},
   "outputs": [],
   "source": []
  },
  {
   "cell_type": "markdown",
   "id": "eb40b072",
   "metadata": {},
   "source": [
    "# Ejemplo"
   ]
  },
  {
   "cell_type": "markdown",
   "id": "46efd240",
   "metadata": {},
   "source": [
    "$(2+3)$\n",
    "$\\beta$"
   ]
  },
  {
   "cell_type": "markdown",
   "id": "6b50c40c",
   "metadata": {},
   "source": [
    "Two integers $\\color{red}a$  and $\\color{blue}b$  are congruent modulo $m$  if and only if $a − b$  is a multiple of $m$ , in which case we write $a ≡ b$ ⁣ ( mod m ). Thus, $15 ≡ 33$ ⁣ ( mod 9 ) , because $15 − 33 = − 18$  is a multiple of $9$ . Given integers $a$  and $m$ , the $mod$ function is given by $a mod m = b$  if and only if $a ≡ b$ ⁣ ( mod m )  and $0 ≤ b ≤ m − 1$ ; hence, $a$mod m  is the smallest nonnegative residue of a  modulo $m$ . "
   ]
  },
  {
   "cell_type": "code",
   "execution_count": 16,
   "id": "51a6f75d",
   "metadata": {},
   "outputs": [],
   "source": [
    "import numpy as np"
   ]
  },
  {
   "cell_type": "code",
   "execution_count": 18,
   "id": "d9cea114",
   "metadata": {},
   "outputs": [
    {
     "data": {
      "text/plain": [
       "3.141592653589793"
      ]
     },
     "execution_count": 18,
     "metadata": {},
     "output_type": "execute_result"
    }
   ],
   "source": [
    "np.pi"
   ]
  },
  {
   "cell_type": "raw",
   "id": "7f8b818b",
   "metadata": {},
   "source": [
    "np."
   ]
  },
  {
   "cell_type": "code",
   "execution_count": null,
   "id": "f9be648c",
   "metadata": {},
   "outputs": [],
   "source": [
    "np."
   ]
  },
  {
   "cell_type": "code",
   "execution_count": null,
   "id": "1818c1ca",
   "metadata": {},
   "outputs": [],
   "source": []
  },
  {
   "cell_type": "code",
   "execution_count": null,
   "id": "d074c5ab",
   "metadata": {},
   "outputs": [],
   "source": []
  }
 ],
 "metadata": {
  "kernelspec": {
   "display_name": "Python 3 (ipykernel)",
   "language": "python",
   "name": "python3"
  },
  "language_info": {
   "codemirror_mode": {
    "name": "ipython",
    "version": 3
   },
   "file_extension": ".py",
   "mimetype": "text/x-python",
   "name": "python",
   "nbconvert_exporter": "python",
   "pygments_lexer": "ipython3",
   "version": "3.9.12"
  }
 },
 "nbformat": 4,
 "nbformat_minor": 5
}
